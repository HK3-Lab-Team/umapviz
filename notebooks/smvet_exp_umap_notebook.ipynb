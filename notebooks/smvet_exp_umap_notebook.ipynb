{
 "cells": [
  {
   "cell_type": "markdown",
   "metadata": {},
   "source": [
    "# UMAP plots and Clustering"
   ]
  },
  {
   "cell_type": "markdown",
   "metadata": {},
   "source": [
    "### Load DataFrame \n",
    "Create object with some infos about the dataframe\n",
    "\n",
    "We also define some metadata columns manually (referring to the patient identity -> not defined by clinical exams)\n",
    "\n",
    "Their list is retrieved by copying the first 31 columns of the 'Sani_15300_anonym.csv'\n",
    "\n",
    "We use these information to isolate the clinical exams features that can be used for partitioning"
   ]
  },
  {
   "cell_type": "code",
   "execution_count": 1,
   "metadata": {},
   "outputs": [],
   "source": [
    "import os\n",
    "import sys\n",
    "import logging\n",
    "import itertools"
   ]
  },
  {
   "cell_type": "code",
   "execution_count": 2,
   "metadata": {},
   "outputs": [],
   "source": [
    "from pd_extras.dataframe_with_info import DataFrameWithInfo\n",
    "from pd_extras.dataframe_with_info import import_df_with_info_from_file"
   ]
  },
  {
   "cell_type": "code",
   "execution_count": 3,
   "metadata": {},
   "outputs": [],
   "source": [
    "logging.basicConfig(format='%(asctime)s \\t %(levelname)s \\t Module: %(module)s \\t %(message)s ',\n",
    "                    datefmt='%d-%b-%y %H:%M:%S', level=logging.INFO)"
   ]
  },
  {
   "cell_type": "markdown",
   "metadata": {},
   "source": [
    "Import of df_correct instance to file using 'shelve'"
   ]
  },
  {
   "cell_type": "code",
   "execution_count": 4,
   "metadata": {},
   "outputs": [],
   "source": [
    "from pathlib import Path"
   ]
  },
  {
   "cell_type": "code",
   "execution_count": 6,
   "metadata": {},
   "outputs": [],
   "source": [
    "CWD = Path(os.path.abspath(os.path.dirname(\"__file__\"))).parents[1]\n",
    "df_correct_dir = CWD / 'smvet' / 'data' / 'output_data' / 'ordinal_encoded' / 'df_ordinal_pat'\n",
    "df_correct = import_df_with_info_from_file(df_correct_dir)"
   ]
  },
  {
   "cell_type": "markdown",
   "metadata": {},
   "source": [
    "## Create partitions and show plots"
   ]
  },
  {
   "cell_type": "code",
   "execution_count": 7,
   "metadata": {},
   "outputs": [],
   "source": [
    "bin_count = 13\n",
    "partition_cols = ['SEX', 'SEXUAL STATUS', 'AGE_bin_id']\n",
    "input_feat_x = \"Serum Albumin\""
   ]
  },
  {
   "cell_type": "markdown",
   "metadata": {},
   "source": [
    "# UMAP Plot to check separation"
   ]
  },
  {
   "cell_type": "code",
   "execution_count": 9,
   "metadata": {},
   "outputs": [],
   "source": [
    "sys.path.append('..')"
   ]
  },
  {
   "cell_type": "code",
   "execution_count": 10,
   "metadata": {},
   "outputs": [],
   "source": [
    "from src.umapviz.umap_exp import UmapExperiment\n",
    "from src.umapviz.umap_metrics import tanimoto_gower"
   ]
  },
  {
   "cell_type": "code",
   "execution_count": 11,
   "metadata": {},
   "outputs": [],
   "source": [
    "df_info = df_correct"
   ]
  },
  {
   "cell_type": "code",
   "execution_count": 12,
   "metadata": {},
   "outputs": [],
   "source": [
    "col_by_type = df_info.column_list_by_type"
   ]
  },
  {
   "cell_type": "code",
   "execution_count": 13,
   "metadata": {},
   "outputs": [
    {
     "data": {
      "text/plain": [
       "ColumnListByType(same_value_cols={'GC_SEQ', 'Serum SAA', 'GROUPS', 'TAG'}, mixed_type_cols={'D Dimer', 'Serum Total Bilirubin', 'pH (quantitative)'}, numerical_cols={'WBC', 'PMDW', 'Thrombin Time', 'Serum Potassium_3.4_enc', 'TTKG', 'Serum Potassium_6.0_enc', 'MONTH_7_enc', 'HCT', 'Serum Albumin_4.4_enc', 'Serum Albumin_1.9_enc', 'Serum Albumin_4.6_enc', 'Serum Potassium_3.2_enc', 'Sodium/Crea', 'HT_20_enc', 'Serum Chloride', 'Prothrombin Time', 'MCV', 'Serum Albumin_3.2_enc', 'HT_17_enc', 'SEX-SEXUAL STATUS-AGE_bin_id_enc', 'YEAR_2010_enc', 'VACCINAZIONI_Irregolari_enc', 'Serum Ca x Pi', 'Serum Sodium_144.0_enc', 'Serum Sodium_157.0_enc', 'VolRTTHY', 'Measured Osmolaity', 'NEUTROPHIL', 'BODY CONDITION SCORE_5.0_enc', 'EOSINOPHIL', 'Serum AST', 'ANAMNESI_AMBIENTALE_Casa_enc', 'Serum IgG', 'Serum Sodium_138.0_enc', 'ANAMNESI_ALIMENTARE_Mista_enc', 'Bilirubin/Crea', 'MPM', 'VolLTTHY', 'CH_R', 'CORTISOLO_LC_MS_MS', 'RETICULOCYTE COUNT', 'BODYWEIGHT', 'Serum Potassium_3.1_enc', 'Serum Sodium_156.0_enc', 'Serum Glucose', 'HT_2_enc', 'Serum LDH', 'Serum Albumin_3.4_enc', 'EF Potassium', 'LIPASI_DGGR', 'YEAR_2015_enc', 'Specific gravity', 'BROMURO_2336.0_enc', 'CHCM', 'Serum Total Carbon Dioxide', 'YEAR_2005_enc', 'VolLiver_1177.0_enc', 'Serum Potassium_3.6_enc', 'Serum Albumin_3.3_enc', 'Serum Potassium_3.3_enc', 'FILARIOSI_Irregolare_enc', 'Serum Potassium_3.9_enc', 'Serum Potassium_5.8_enc', 'Serum Anion Gap', 'Serum Potassium_6.3_enc', 'MONTH_9_enc', 'Serum Sodium_178.0_enc', 'HB', 'Serum Potassium_5.5_enc', 'YEAR_2013_enc', 'Plasma Lactate', 'Serum Potassium_5.6_enc', 'Serum Sodium_142.0_enc', 'Serum Albumin_2.2_enc', 'Serum PON-1', 'Activated Partial thromboplastin Time', 'Serum Potassium_5.9_enc', 'Osmolality', 'MONTH_5_enc', 'Serum Potassium_3.7_enc', 'HT_3_enc', 'Serum Albumin_4.5_enc', 'Serum Potassium_4.6_enc', 'YEAR_2007_enc', 'Serum Potassium_7.6_enc', 'Serum Sodium_153.0_enc', 'Serum Sodium_145.1_enc', 'FILARIOSI_Regolare_enc', 'Serum IgA', 'ID_SCHEDA', 'Beta-2', 'YEAR_2019_enc', 'Serum Albumin_2.9_enc', 'Serum Sodium_127.0_enc', 'Serum Iron', 'Serum Calcium', 'Serum Sodium_136.0_enc', 'MONTH_10_enc', 'HT_22_enc', 'PUCU', 'MPV', 'Serum AG', 'BODY CONDITION SCORE_2.0_enc', 'Serum Sodium_159.0_enc', 'Serum Albumin_2.7_enc', 'TIME OF DEATH', 'EF Chloride', 'HT_13_enc', 'HDW', 'Serum CRP', 'Serum Sodium_141.0_enc', 'ANAMNESI_AMBIENTALE_Casa-Giardino_enc', 'Serum Globulin', 'YEAR_2011_enc', 'Serum Sodium_154.0_enc', 'SEXUAL STATUS_Ni_enc', 'YEAR_2012_enc', 'Serum Sodium_132.0_enc', 'ANAMNESI_ALIMENTARE_Commerciale_enc', 'FT4 LC-MS-MS', 'GGT/Crea', 'HPT', 'Calcium/Crea', 'Serum Tonicity', 'Serum Albumin_3.8_enc', 'Serum Sodium_146.8_enc', 'Serum Albumin_4.3_enc', 'TT4', 'Serum Sodium_145.3_enc', 'Serum Potassium_4.4_enc', 'PROFILO_PAZIENTE_Scadente_enc', 'HT_28_enc', 'HT_7_enc', 'Serum Potassium_5.7_enc', 'Serum UIBC', 'DEATH', 'Serum Sodium_143.7_enc', 'Serum BCHE', 'BLOOD PRESS MEAN', 'Serum Potassium_4.1_enc', 'CH', 'PROFILO_PAZIENTE_Pessimo_enc', 'Lipase/Crea', 'YEAR_2004_enc', 'Serum Potassium_5.3_enc', 'Serum Albumin_3.5_enc', 'EF Sodium', 'Serum Sodium_166.0_enc', 'Serum Sodium_143.6_enc', 'YEAR_2006_enc', 'Serum Sodium_145.0_enc', 'Serum Sodium_129.0_enc', 'Serum Sodium_143.0_enc', 'MONTH_12_enc', 'Gamma', 'Serum Sodium_130.0_enc', 'HT_18_enc', 'Serum Sodium_124.0_enc', 'AMMONIUM', 'Serum Bile Acid', 'AGE_bin_id_2_enc', 'HT_5_enc', 'VolLiver_19.0_enc', 'Cortisol/Crea', 'YEAR_2018_enc', 'MCHC', 'Saturation', 'Serum Potassium_6.4_enc', 'Serum Albumin_2.8_enc', 'FT4', 'Serum Potassium_3.5_enc', 'TLI', 'HT_4_enc', 'Serum Osmolal Gap', 'HT_12_enc', 'Serum Sodium_150.0_enc', 'AGE', 'LIMPHOCYTE', 'Serum Albumin_1.2_enc', 'EF Posphate', 'YEAR_2008_enc', 'Serum Potassium_4.8_enc', 'Serum Potassium_6.2_enc', 'Serum Ferritin', 'Serum Albumin_3.7_enc', 'Serum Sodium_134.0_enc', 'Serum Albumin_4.0_enc', 'HT_9_enc', 'VolLiver_29.4_enc', 'Serum Sodium_155.0_enc', 'Serum Sodium_140.0_enc', 'HT_16_enc', 'Serum TIBC', 'Serum Albumin Corrected Anion Gap', 'Serum Lipase', 'P/Crea', 'CHDW', 'Serum Sodium_148.0_enc', 'Serum Sodium_133.0_enc', 'Serum Sodium_152.0_enc', 'Serum ALP', 'Serum Phosphate', 'Serum Albumin_2.1_enc', 'Serum CK', 'MONOCYTE', 'Serum Sodium_173.0_enc', 'Beta-1', 'Serum Albumin_3.6_enc', 'Serum Albumin_1.8_enc', 'Serum Potassium_5.4_enc', 'MONTH_2_enc', 'H', 'Serum Sodium_158.0_enc', 'Serum Potassium_5.0_enc', 'EF Urea', 'Serum Sodium_135.0_enc', 'Serum Potassium_6.9_enc', 'EF Calcium', 'Serum Na/K', 'RDW', 'CREATINURIA', 'Serum Triglyceride', 'Serum Potassium_4.9_enc', 'Serum Albumin_1.6_enc', 'MONTH_3_enc', 'YEAR_2009_enc', 'Serum Potassium_4.5_enc', 'YEAR_2014_enc', 'PCDW', 'MPC', 'Serum Magnesium', 'Serum Potassium_4.3_enc', 'PDW', 'Osmolal Gap', 'Quantitative FDP', 'HT_1_enc', 'TEMP', 'Serum Albumin_2.3_enc', 'Alpha-1', 'Beta-3', 'Serum IgM', 'Serum Potassium_4.7_enc', 'Serum Cholesterol', 'Serum Potassium_3.8_enc', 'Serum Sodium_151.0_enc', 'MONTH_4_enc', 'HT_15_enc', 'HT_11_enc', 'Serum ALT', 'HT_10_enc', 'MONTH_11_enc', 'VACCINAZIONI_Regolari_enc', 'Serum Sodium_119.0_enc', 'BODY CONDITION SCORE_3.0_enc', 'Serum Sodium_109.0_enc', 'Serum Potassium_5.2_enc', 'Serum Albumin_3.9_enc', 'PULSE RATE', 'Serum Measured Osmolality', 'Fibrinogen', 'Serum Potassium_4.2_enc', 'MONTH_8_enc', 'MCHC/CHCM', 'Serum Albumin_2.0_enc', 'PROFILO_PAZIENTE_Discreto_enc', 'HT_8_enc', 'Serum Creatinine', 'Albumin %', 'PLT', 'HT_21_enc', 'Serum Total Protein', 'Serum Sodium_151.7_enc', 'Alpha-2', 'Bile Acids/Crea', 'Chloride/Crea', 'Serum Potassium_2.9_enc', 'MONTH_6_enc', 'Serum Albumin_2.5_enc', 'Serum Sodium_163.0_enc', 'Serum Potassium_5.1_enc', 'Serum Potassium_4.0_enc', 'Serum Albumin_3.1_enc', 'Serum Haptoglobin', 'SEX_M_enc', 'HT_14_enc', 'Serum Amylase', 'Aldosteron', 'Serum Sodium_160.0_enc', 'Serum Sodium_149.0_enc', 'Amylase/Crea', 'YEAR_2002_enc', 'HT_6_enc', 'YEAR_2016_enc', 'Serum Albumin_2.6_enc', 'AMMONIACA_NORM_CREA', 'Serum Albumin_4.2_enc', 'Serum Sodium_147.0_enc', 'Serum Albumin_1.7_enc', 'ANAMNESI_AMBIENTALE_Giardino_enc', 'Potassium/Crea', 'TSH', 'Antithrombin', 'RBC', 'AGE_bin_id_1_enc', 'BLOOD PRESS MIN', 'RESPIRATORY RATE', 'Glucose/Crea', 'PCT', 'Serum Albumin_4.1_enc', 'Serum Sodium_139.0_enc', 'Serum Urea', 'BASOPHIL', 'Serum GGT', 'HT_27_enc', 'BLOOD PRESS MAX', 'Serum Sodium_146.0_enc', 'Serum Sodium_137.0_enc', 'Serum Albumin_3.0_enc', 'Serum Potassium_6.1_enc', 'YEAR_2017_enc', 'YEAR_2003_enc', 'MCV_R', 'Serum Albumin_2.4_enc', 'BODY CONDITION SCORE_4.0_enc', 'Serum Sodium_131.0_enc'}, med_exam_col_list={'WBC', 'PMDW', 'Thrombin Time', 'Serum Potassium_3.4_enc', 'TTKG', 'Serum Potassium_6.0_enc', 'Serum Albumin_4.4_enc', 'HCT', 'Serum Albumin_1.9_enc', 'Serum Albumin_4.6_enc', 'Serum Potassium_3.2_enc', 'Sodium/Crea', 'Serum Albumin_3.2_enc', 'Serum Chloride', 'Prothrombin Time', 'MCV', 'SEX-SEXUAL STATUS-AGE_bin_id_enc', 'Serum Ca x Pi', 'Serum Sodium_144.0_enc', 'Serum Sodium_157.0_enc', 'VolRTTHY', 'Measured Osmolaity', 'NEUTROPHIL', 'EOSINOPHIL', 'Serum AST', 'Serum IgG', 'Serum Sodium_138.0_enc', 'Bilirubin/Crea', 'MPM', 'VolLTTHY', 'CH_R', 'CORTISOLO_LC_MS_MS', 'RETICULOCYTE COUNT', 'BODYWEIGHT', 'Serum Potassium_3.1_enc', 'Serum Sodium_156.0_enc', 'Serum Glucose', 'Serum LDH', 'Serum Albumin_3.4_enc', 'EF Potassium', 'LIPASI_DGGR', 'BROMURO_2336.0_enc', 'Specific gravity', 'VolLiver_1177.0_enc', 'CHCM', 'Serum Total Carbon Dioxide', 'Serum Potassium_3.6_enc', 'Serum Albumin_3.3_enc', 'Serum Potassium_3.3_enc', 'Serum Potassium_3.9_enc', 'Serum Potassium_5.8_enc', 'Serum Potassium_6.3_enc', 'Serum Sodium_178.0_enc', 'Serum Anion Gap', 'HB', 'Serum Potassium_5.5_enc', 'Plasma Lactate', 'Serum Potassium_5.6_enc', 'Serum Sodium_142.0_enc', 'Serum Albumin_2.2_enc', 'Serum PON-1', 'Activated Partial thromboplastin Time', 'Serum Potassium_5.9_enc', 'Osmolality', 'Serum Potassium_3.7_enc', 'Serum Albumin_4.5_enc', 'Serum Potassium_4.6_enc', 'Serum Potassium_7.6_enc', 'Serum Sodium_153.0_enc', 'Serum Sodium_145.1_enc', 'Serum IgA', 'ID_SCHEDA', 'Beta-2', 'Serum Albumin_2.9_enc', 'Serum Sodium_127.0_enc', 'Serum Iron', 'Serum Calcium', 'Serum Sodium_136.0_enc', 'PUCU', 'MPV', 'Serum AG', 'Serum Sodium_159.0_enc', 'Serum Albumin_2.7_enc', 'TIME OF DEATH', 'EF Chloride', 'Serum Sodium_141.0_enc', 'HDW', 'Serum CRP', 'Serum Globulin', 'Serum Sodium_154.0_enc', 'Serum Sodium_132.0_enc', 'FT4 LC-MS-MS', 'GGT/Crea', 'HPT', 'Calcium/Crea', 'Serum Tonicity', 'Serum Albumin_3.8_enc', 'Serum Sodium_146.8_enc', 'Serum Albumin_4.3_enc', 'TT4', 'Serum Sodium_145.3_enc', 'Serum Potassium_4.4_enc', 'Serum Potassium_5.7_enc', 'Serum UIBC', 'Serum Sodium_143.7_enc', 'Serum BCHE', 'BLOOD PRESS MEAN', 'Serum Potassium_4.1_enc', 'CH', 'Serum Potassium_5.3_enc', 'Lipase/Crea', 'Serum Albumin_3.5_enc', 'EF Sodium', 'Serum Sodium_166.0_enc', 'Serum Sodium_143.6_enc', 'Serum Sodium_145.0_enc', 'Serum Sodium_129.0_enc', 'Serum Sodium_143.0_enc', 'Gamma', 'Serum Sodium_130.0_enc', 'Serum Sodium_124.0_enc', 'AMMONIUM', 'Serum Bile Acid', 'VolLiver_19.0_enc', 'Cortisol/Crea', 'MCHC', 'Saturation', 'Serum Potassium_6.4_enc', 'Serum Albumin_2.8_enc', 'FT4', 'Serum Potassium_3.5_enc', 'TLI', 'Serum Osmolal Gap', 'Serum Sodium_150.0_enc', 'AGE', 'LIMPHOCYTE', 'Serum Albumin_1.2_enc', 'EF Posphate', 'Serum Potassium_4.8_enc', 'Serum Potassium_6.2_enc', 'Serum Ferritin', 'Serum Albumin_3.7_enc', 'Serum Sodium_134.0_enc', 'Serum Albumin_4.0_enc', 'VolLiver_29.4_enc', 'Serum Sodium_155.0_enc', 'Serum Sodium_140.0_enc', 'Serum TIBC', 'Serum Albumin Corrected Anion Gap', 'Serum Lipase', 'P/Crea', 'CHDW', 'Serum Sodium_148.0_enc', 'Serum Sodium_133.0_enc', 'Serum Sodium_152.0_enc', 'Serum ALP', 'Serum Phosphate', 'Serum Albumin_2.1_enc', 'Serum CK', 'MONOCYTE', 'Serum Sodium_173.0_enc', 'Beta-1', 'Serum Albumin_3.6_enc', 'Serum Albumin_1.8_enc', 'Serum Potassium_5.4_enc', 'Serum Sodium_158.0_enc', 'Serum Potassium_5.0_enc', 'EF Urea', 'Serum Sodium_135.0_enc', 'Serum Potassium_6.9_enc', 'EF Calcium', 'Serum Na/K', 'RDW', 'CREATINURIA', 'Serum Triglyceride', 'Serum Potassium_4.9_enc', 'Serum Albumin_1.6_enc', 'Serum Potassium_4.5_enc', 'PCDW', 'MPC', 'Serum Magnesium', 'Serum Potassium_4.3_enc', 'PDW', 'Osmolal Gap', 'Quantitative FDP', 'Serum Albumin_2.3_enc', 'TEMP', 'Alpha-1', 'Beta-3', 'Serum IgM', 'Serum Potassium_4.7_enc', 'Serum Cholesterol', 'Serum Potassium_3.8_enc', 'Serum Sodium_151.0_enc', 'Serum ALT', 'Serum Sodium_119.0_enc', 'Serum Sodium_109.0_enc', 'Serum Potassium_5.2_enc', 'Serum Albumin_3.9_enc', 'PULSE RATE', 'Serum Measured Osmolality', 'Fibrinogen', 'Serum Potassium_4.2_enc', 'MCHC/CHCM', 'Serum Albumin_2.0_enc', 'Serum Creatinine', 'Albumin %', 'PLT', 'Serum Total Protein', 'Serum Sodium_151.7_enc', 'Alpha-2', 'Bile Acids/Crea', 'Chloride/Crea', 'Serum Potassium_2.9_enc', 'Serum Albumin_2.5_enc', 'Serum Sodium_163.0_enc', 'Serum Potassium_5.1_enc', 'Serum Potassium_4.0_enc', 'Serum Albumin_3.1_enc', 'Serum Haptoglobin', 'Serum Amylase', 'Aldosteron', 'Serum Sodium_160.0_enc', 'Serum Sodium_149.0_enc', 'Amylase/Crea', 'Serum Albumin_2.6_enc', 'AMMONIACA_NORM_CREA', 'Serum Albumin_4.2_enc', 'Serum Sodium_147.0_enc', 'Serum Albumin_1.7_enc', 'Potassium/Crea', 'TSH', 'Antithrombin', 'RBC', 'BLOOD PRESS MIN', 'RESPIRATORY RATE', 'Glucose/Crea', 'PCT', 'Serum Albumin_4.1_enc', 'Serum Sodium_139.0_enc', 'Serum Urea', 'BASOPHIL', 'Serum GGT', 'BLOOD PRESS MAX', 'Serum Sodium_146.0_enc', 'Serum Sodium_137.0_enc', 'Serum Albumin_3.0_enc', 'Serum Potassium_6.1_enc', 'MCV_R', 'Serum Albumin_2.4_enc', 'Serum Sodium_131.0_enc'}, str_cols={'Serum Albumin', 'PROV', 'HT', 'PROFILO_PAZIENTE', 'ID_OWNER', 'SEX', 'Serum Potassium', 'SEXUAL STATUS', 'VACCINAZIONI', 'NOME', 'YEAR', 'COMUNE', 'ANAMNESI_AMBIENTALE', 'MONTH', 'BROMURO', 'Serum Sodium', 'ANAMNESI_ALIMENTARE', 'FILARIOSI', 'VolLiver', 'BODY CONDITION SCORE', 'BREED', 'AGE_bin_id', 'PATIENT_ID'}, str_categorical_cols={'SEXUAL STATUS', 'HT', 'VACCINAZIONI', 'PROFILO_PAZIENTE', 'YEAR', 'ANAMNESI_AMBIENTALE', 'MONTH', 'BROMURO', 'SEX', 'Serum Sodium', 'ANAMNESI_ALIMENTARE', 'FILARIOSI', 'VolLiver', 'BODY CONDITION SCORE', 'AGE_bin_id', 'Serum Albumin', 'Serum Potassium'}, num_categorical_cols={'SEX-SEXUAL STATUS-AGE_bin_id_enc'}, other_cols={'DATA_SCHEDA', 'AGE_days', 'MONTH_BIRTH_DATE'}, bool_cols={'Serum Potassium_3.4_enc', 'Serum Potassium_6.0_enc', 'MONTH_7_enc', 'Serum Albumin_4.4_enc', 'Serum Albumin_1.9_enc', 'Serum Albumin_4.6_enc', 'Serum Potassium_3.2_enc', 'HT_20_enc', 'Serum Albumin_3.2_enc', 'HT_17_enc', 'YEAR_2010_enc', 'VACCINAZIONI_Irregolari_enc', 'Serum Sodium_144.0_enc', 'Serum Sodium_157.0_enc', 'BODY CONDITION SCORE_5.0_enc', 'ANAMNESI_AMBIENTALE_Casa_enc', 'Serum Sodium_138.0_enc', 'ANAMNESI_ALIMENTARE_Mista_enc', 'Serum Potassium_3.1_enc', 'Serum Sodium_156.0_enc', 'HT_2_enc', 'Serum Albumin_3.4_enc', 'YEAR_2015_enc', 'BROMURO_2336.0_enc', 'YEAR_2005_enc', 'VolLiver_1177.0_enc', 'Serum Potassium_3.6_enc', 'Serum Albumin_3.3_enc', 'Serum Potassium_3.3_enc', 'FILARIOSI_Irregolare_enc', 'Serum Potassium_3.9_enc', 'Serum Potassium_5.8_enc', 'Serum Potassium_6.3_enc', 'MONTH_9_enc', 'Serum Sodium_178.0_enc', 'Serum Potassium_5.5_enc', 'YEAR_2013_enc', 'Serum Potassium_5.6_enc', 'Serum Sodium_142.0_enc', 'Serum Albumin_2.2_enc', 'Serum Potassium_5.9_enc', 'MONTH_5_enc', 'Serum Potassium_3.7_enc', 'HT_3_enc', 'Serum Albumin_4.5_enc', 'Serum Potassium_4.6_enc', 'YEAR_2007_enc', 'Serum Potassium_7.6_enc', 'Serum Sodium_153.0_enc', 'Serum Sodium_145.1_enc', 'FILARIOSI_Regolare_enc', 'YEAR_2019_enc', 'Serum Albumin_2.9_enc', 'Serum Sodium_127.0_enc', 'Serum Sodium_136.0_enc', 'MONTH_10_enc', 'HT_22_enc', 'Serum Potassium_6.1_enc', 'BODY CONDITION SCORE_2.0_enc', 'Serum Sodium_159.0_enc', 'Serum Albumin_2.7_enc', 'HT_13_enc', 'Serum Sodium_141.0_enc', 'ANAMNESI_AMBIENTALE_Casa-Giardino_enc', 'YEAR_2011_enc', 'Serum Sodium_154.0_enc', 'SEXUAL STATUS_Ni_enc', 'YEAR_2012_enc', 'Serum Sodium_132.0_enc', 'ANAMNESI_ALIMENTARE_Commerciale_enc', 'Serum Albumin_3.8_enc', 'Serum Sodium_146.8_enc', 'Serum Albumin_4.3_enc', 'Serum Sodium_145.3_enc', 'Serum Potassium_4.4_enc', 'PROFILO_PAZIENTE_Scadente_enc', 'HT_28_enc', 'HT_7_enc', 'Serum Potassium_5.7_enc', 'DEATH', 'Serum Sodium_143.7_enc', 'Serum Potassium_4.1_enc', 'PROFILO_PAZIENTE_Pessimo_enc', 'YEAR_2004_enc', 'Serum Potassium_5.3_enc', 'Serum Albumin_3.5_enc', 'Serum Sodium_166.0_enc', 'Serum Sodium_143.6_enc', 'YEAR_2006_enc', 'Serum Sodium_145.0_enc', 'Serum Sodium_129.0_enc', 'Serum Sodium_143.0_enc', 'MONTH_12_enc', 'Serum Sodium_130.0_enc', 'HT_18_enc', 'Serum Sodium_124.0_enc', 'AGE_bin_id_2_enc', 'HT_5_enc', 'VolLiver_19.0_enc', 'YEAR_2018_enc', 'Serum Potassium_6.4_enc', 'Serum Albumin_2.8_enc', 'Serum Potassium_3.5_enc', 'HT_4_enc', 'HT_12_enc', 'Serum Sodium_150.0_enc', 'Serum Albumin_1.2_enc', 'YEAR_2008_enc', 'Serum Potassium_4.8_enc', 'Serum Potassium_6.2_enc', 'Serum Albumin_3.7_enc', 'Serum Sodium_134.0_enc', 'Serum Albumin_4.0_enc', 'HT_9_enc', 'VolLiver_29.4_enc', 'Serum Sodium_155.0_enc', 'Serum Sodium_140.0_enc', 'HT_16_enc', 'Serum Sodium_148.0_enc', 'Serum Sodium_133.0_enc', 'Serum Sodium_152.0_enc', 'Serum Albumin_2.1_enc', 'Serum Sodium_173.0_enc', 'Serum Albumin_3.6_enc', 'Serum Albumin_1.8_enc', 'Serum Potassium_5.4_enc', 'MONTH_2_enc', 'H', 'Serum Sodium_158.0_enc', 'Serum Potassium_5.0_enc', 'Serum Sodium_135.0_enc', 'Serum Potassium_6.9_enc', 'Serum Potassium_4.9_enc', 'Serum Albumin_1.6_enc', 'MONTH_3_enc', 'YEAR_2009_enc', 'Serum Potassium_4.5_enc', 'YEAR_2014_enc', 'Serum Potassium_4.3_enc', 'HT_1_enc', 'Serum Albumin_2.3_enc', 'Serum Potassium_4.7_enc', 'Serum Potassium_3.8_enc', 'Serum Sodium_151.0_enc', 'MONTH_4_enc', 'HT_15_enc', 'HT_11_enc', 'HT_10_enc', 'MONTH_11_enc', 'VACCINAZIONI_Regolari_enc', 'Serum Sodium_119.0_enc', 'BODY CONDITION SCORE_3.0_enc', 'Serum Sodium_109.0_enc', 'Serum Potassium_5.2_enc', 'Serum Albumin_3.9_enc', 'Serum Potassium_4.2_enc', 'MONTH_8_enc', 'Serum Albumin_2.0_enc', 'PROFILO_PAZIENTE_Discreto_enc', 'HT_8_enc', 'HT_21_enc', 'Serum Sodium_151.7_enc', 'Serum Potassium_2.9_enc', 'MONTH_6_enc', 'Serum Albumin_2.5_enc', 'Serum Sodium_163.0_enc', 'Serum Potassium_5.1_enc', 'Serum Potassium_4.0_enc', 'Serum Albumin_3.1_enc', 'SEX_M_enc', 'HT_14_enc', 'Serum Sodium_160.0_enc', 'Serum Sodium_149.0_enc', 'YEAR_2002_enc', 'HT_6_enc', 'YEAR_2016_enc', 'Serum Albumin_2.6_enc', 'Serum Albumin_4.2_enc', 'Serum Sodium_147.0_enc', 'Serum Albumin_1.7_enc', 'ANAMNESI_AMBIENTALE_Giardino_enc', 'AGE_bin_id_1_enc', 'Serum Albumin_4.1_enc', 'Serum Sodium_139.0_enc', 'HT_27_enc', 'Serum Sodium_146.0_enc', 'Serum Sodium_137.0_enc', 'Serum Albumin_3.0_enc', 'YEAR_2017_enc', 'YEAR_2003_enc', 'Serum Albumin_2.4_enc', 'BODY CONDITION SCORE_4.0_enc', 'Serum Sodium_131.0_enc'})"
      ]
     },
     "execution_count": 13,
     "metadata": {},
     "output_type": "execute_result"
    }
   ],
   "source": [
    "col_by_type"
   ]
  },
  {
   "cell_type": "code",
   "execution_count": 14,
   "metadata": {},
   "outputs": [
    {
     "name": "stderr",
     "output_type": "stream",
     "text": [
      "03-Sep-20 11:48:23 \t INFO \t Module: umap_exp \t The features that have too high number of Nan (and will not be considered in UMAP) are: ['TTKG', 'Sodium/Crea', 'VACCINAZIONI_Irregolari_enc', 'Serum Ca x Pi', 'VolRTTHY', 'BODY CONDITION SCORE_5.0_enc', 'Serum IgG', 'Bilirubin/Crea', 'BROMURO_2336.0_enc', 'FILARIOSI_Irregolare_enc', 'FILARIOSI_Regolare_enc', 'Serum IgA', 'BODY CONDITION SCORE_2.0_enc', 'ANAMNESI_AMBIENTALE_Casa-Giardino_enc', 'ANAMNESI_ALIMENTARE_Commerciale_enc', 'FT4 LC-MS-MS', 'GGT/Crea', 'HPT', 'Calcium/Crea', 'Lipase/Crea', 'VolLiver_19.0_enc', 'FT4', 'EF Posphate', 'VACCINAZIONI_Regolari_enc', 'Serum Haptoglobin', 'Aldosteron', 'Potassium/Crea', 'TSH', 'BLOOD PRESS MIN', 'RESPIRATORY RATE', 'ANAMNESI_AMBIENTALE_Casa_enc', 'ANAMNESI_ALIMENTARE_Mista_enc', 'VolLTTHY', 'CORTISOLO_LC_MS_MS', 'LIPASI_DGGR', 'VolLiver_1177.0_enc', 'Serum PON-1', 'TT4', 'PROFILO_PAZIENTE_Scadente_enc', 'BLOOD PRESS MEAN', 'PROFILO_PAZIENTE_Pessimo_enc', 'AMMONIUM', 'Serum Bile Acid', 'Cortisol/Crea', 'TLI', 'VolLiver_29.4_enc', 'P/Crea', 'EF Urea', 'EF Calcium', 'CREATINURIA', 'Osmolal Gap', 'Quantitative FDP', 'TEMP', 'Serum IgM', 'BODY CONDITION SCORE_3.0_enc', 'PULSE RATE', 'PROFILO_PAZIENTE_Discreto_enc', 'Bile Acids/Crea', 'Chloride/Crea', 'Amylase/Crea', 'AMMONIACA_NORM_CREA', 'ANAMNESI_AMBIENTALE_Giardino_enc', 'Glucose/Crea', 'BLOOD PRESS MAX', 'BODY CONDITION SCORE_4.0_enc'] \n",
      "03-Sep-20 11:48:24 \t WARNING \t Module: dataframe_with_info \t Some columns of the previous DataFrameWithInfo instance are being lost, but information about operation on them is still present \n",
      "03-Sep-20 11:48:24 \t WARNING \t Module: dataframe_with_info \t Some columns of the previous DataFrameWithInfo instance are being lost, but information about operation on them is still present \n",
      "03-Sep-20 11:48:24 \t INFO \t Module: umap_exp \t UMAP will use the following features: \n",
      "0.\tbool:\t0 feat.\n",
      "1.\tcategorical:\t0 feat.\n",
      "2.\tnumeric:\t256 feat.\n",
      "\t[Serum Potassium_3.4_enc - HCT - Serum Albumin_1.9_enc - Serum Albumin_4.6_enc - Serum Potassium_3.2_enc - HT_20_enc - Serum Chloride - Prothrombin Time - Serum Albumin_3.2_enc - YEAR_2010_enc - Serum Sodium_144.0_enc - EOSINOPHIL - Serum Sodium_138.0_enc - MPM - Serum Potassium_3.1_enc - Serum Sodium_156.0_enc - Serum Glucose - EF Potassium - YEAR_2015_enc - Serum Potassium_3.3_enc - Serum Potassium_3.9_enc - Serum Potassium_5.8_enc - Serum Potassium_6.3_enc - MONTH_9_enc - YEAR_2013_enc - Serum Potassium_5.6_enc - Serum Albumin_2.2_enc - MONTH_5_enc - Osmolality - Serum Albumin_4.5_enc - Serum Potassium_7.6_enc - YEAR_2019_enc - Serum Sodium_127.0_enc - Serum Iron - Serum Calcium - Serum Sodium_136.0_enc - MONTH_10_enc - HT_22_enc - Serum Sodium_159.0_enc - Serum Albumin_2.7_enc - Serum Sodium_141.0_enc - Serum CRP - YEAR_2011_enc - YEAR_2012_enc - Serum Sodium_132.0_enc - Serum Albumin_3.8_enc - Serum Albumin_4.3_enc - Serum Sodium_145.3_enc - HT_7_enc - Serum Sodium_143.7_enc - Serum BCHE - YEAR_2004_enc - EF Sodium - Serum Sodium_166.0_enc - Serum Sodium_143.6_enc - YEAR_2006_enc - Serum Sodium_129.0_enc - Serum Sodium_130.0_enc - Serum Sodium_124.0_enc - YEAR_2018_enc - MCHC - Saturation - Serum Potassium_6.4_enc - Serum Albumin_2.8_enc - HT_4_enc - Serum Osmolal Gap - LIMPHOCYTE - Serum Sodium_155.0_enc - Serum TIBC - Serum Lipase - Serum Phosphate - Serum CK - Serum Sodium_173.0_enc - Serum Albumin_3.6_enc - Serum Albumin_1.8_enc - Serum Potassium_5.4_enc - Serum Sodium_158.0_enc - Serum Sodium_135.0_enc - Serum Potassium_6.9_enc - Serum Potassium_4.9_enc - Serum Albumin_1.6_enc - YEAR_2009_enc - PCDW - MPC - Serum Potassium_4.3_enc - PDW - Alpha-1 - Serum Potassium_4.7_enc - Serum Potassium_3.8_enc - Serum Cholesterol - MONTH_4_enc - HT_15_enc - MONTH_11_enc - Serum Sodium_119.0_enc - Serum Potassium_5.2_enc - Serum Measured Osmolality - Fibrinogen - Serum Potassium_4.2_enc - MCHC/CHCM - Serum Albumin_2.0_enc - HT_8_enc - HT_21_enc - Serum Total Protein - Serum Sodium_151.7_enc - Alpha-2 - Serum Potassium_2.9_enc - MONTH_6_enc - Serum Sodium_163.0_enc - Serum Potassium_4.0_enc - SEX_M_enc - HT_14_enc - YEAR_2002_enc - HT_6_enc - YEAR_2016_enc - Serum Albumin_2.6_enc - Serum Albumin_4.2_enc - Serum Sodium_147.0_enc - Serum Albumin_1.7_enc - Antithrombin - AGE_bin_id_1_enc - Serum Albumin_4.1_enc - Serum Sodium_139.0_enc - HT_27_enc - BASOPHIL - Serum GGT - Serum Sodium_146.0_enc - Serum Albumin_3.0_enc - MCV_R - Serum Albumin_2.4_enc - WBC - PMDW - Thrombin Time - Serum Potassium_6.0_enc - MONTH_7_enc - Serum Albumin_4.4_enc - HT_17_enc - MCV - SEX-SEXUAL STATUS-AGE_bin_id_enc - Serum Sodium_157.0_enc - Measured Osmolaity - NEUTROPHIL - Serum AST - CH_R - RETICULOCYTE COUNT - HT_2_enc - Serum LDH - Serum Albumin_3.4_enc - YEAR_2005_enc - Specific gravity - CHCM - Serum Total Carbon Dioxide - Serum Potassium_3.6_enc - Serum Albumin_3.3_enc - Serum Sodium_178.0_enc - Serum Anion Gap - HB - Serum Potassium_5.5_enc - Plasma Lactate - Serum Sodium_142.0_enc - Activated Partial thromboplastin Time - Serum Potassium_5.9_enc - Serum Potassium_3.7_enc - HT_3_enc - Serum Potassium_4.6_enc - YEAR_2007_enc - Serum Sodium_153.0_enc - Serum Sodium_145.1_enc - Beta-2 - Serum Albumin_2.9_enc - PUCU - MPV - Serum AG - EF Chloride - HT_13_enc - HDW - Serum Globulin - Serum Sodium_154.0_enc - SEXUAL STATUS_Ni_enc - Serum Tonicity - Serum Sodium_146.8_enc - Serum Potassium_4.4_enc - HT_28_enc - Serum Potassium_5.7_enc - DEATH - Serum UIBC - Serum Potassium_4.1_enc - Serum Potassium_5.3_enc - CH - Serum Albumin_3.5_enc - Serum Sodium_145.0_enc - Serum Sodium_143.0_enc - MONTH_12_enc - Gamma - HT_18_enc - AGE_bin_id_2_enc - HT_5_enc - Serum Potassium_3.5_enc - HT_12_enc - Serum Sodium_150.0_enc - Serum Albumin_1.2_enc - YEAR_2008_enc - Serum Potassium_4.8_enc - Serum Potassium_6.2_enc - Serum Ferritin - Serum Albumin_3.7_enc - Serum Sodium_134.0_enc - Serum Albumin_4.0_enc - HT_9_enc - Serum Sodium_140.0_enc - HT_16_enc - Serum Albumin Corrected Anion Gap - Serum Sodium_148.0_enc - CHDW - Serum Sodium_133.0_enc - Serum Sodium_152.0_enc - Serum ALP - Serum Albumin_2.1_enc - MONOCYTE - Beta-1 - MONTH_2_enc - H - Serum Potassium_5.0_enc - Serum Na/K - RDW - Serum Triglyceride - MONTH_3_enc - Serum Potassium_4.5_enc - YEAR_2014_enc - Serum Magnesium - HT_1_enc - Serum Albumin_2.3_enc - Beta-3 - Serum Sodium_151.0_enc - HT_11_enc - HT_10_enc - Serum ALT - Serum Sodium_109.0_enc - Serum Albumin_3.9_enc - MONTH_8_enc - Serum Creatinine - Albumin % - PLT - Serum Albumin_2.5_enc - Serum Potassium_5.1_enc - Serum Albumin_3.1_enc - Serum Amylase - Serum Sodium_160.0_enc - Serum Sodium_149.0_enc - RBC - PCT - Serum Urea - Serum Sodium_137.0_enc - YEAR_2017_enc - Serum Potassium_6.1_enc - YEAR_2003_enc - Serum Sodium_131.0_enc]\n",
      " \n"
     ]
    },
    {
     "ename": "ValueError",
     "evalue": "unable to broadcast argument 1 to output array\nFile \"../src/umapviz/umap_metrics.py\", line 203, ",
     "output_type": "error",
     "traceback": [
      "\u001b[0;31m---------------------------------------------------------------------------\u001b[0m",
      "\u001b[0;31mValueError\u001b[0m                                Traceback (most recent call last)",
      "\u001b[0;32m<ipython-input-14-b1de5d4d9075>\u001b[0m in \u001b[0;36m<module>\u001b[0;34m\u001b[0m\n\u001b[1;32m    121\u001b[0m \u001b[0;31m# umap_exp.plot_cluster_labels(multi_marker_feats=('SEX_enc', 'SEXUAL STATUS_enc'))\u001b[0m\u001b[0;34m\u001b[0m\u001b[0;34m\u001b[0m\u001b[0;34m\u001b[0m\u001b[0m\n\u001b[1;32m    122\u001b[0m \u001b[0;34m\u001b[0m\u001b[0m\n\u001b[0;32m--> 123\u001b[0;31m \u001b[0mumap_exp\u001b[0m\u001b[0;34m.\u001b[0m\u001b[0mfit_transform\u001b[0m\u001b[0;34m(\u001b[0m\u001b[0;34m)\u001b[0m\u001b[0;34m\u001b[0m\u001b[0;34m\u001b[0m\u001b[0m\n\u001b[0m\u001b[1;32m    124\u001b[0m \u001b[0mumap_exp\u001b[0m\u001b[0;34m.\u001b[0m\u001b[0mplot\u001b[0m\u001b[0;34m(\u001b[0m\u001b[0mreturn_plot\u001b[0m\u001b[0;34m=\u001b[0m\u001b[0;32mFalse\u001b[0m\u001b[0;34m)\u001b[0m\u001b[0;34m\u001b[0m\u001b[0;34m\u001b[0m\u001b[0m\n",
      "\u001b[0;32m~/WorkspaceHK3Lab/umapviz/src/umapviz/umap_exp.py\u001b[0m in \u001b[0;36mfit_transform\u001b[0;34m(self, n_components, repeat_fitting, min_distance, n_neighbors)\u001b[0m\n\u001b[1;32m    587\u001b[0m             \u001b[0mmetric\u001b[0m\u001b[0;34m=\u001b[0m\u001b[0mself\u001b[0m\u001b[0;34m.\u001b[0m\u001b[0mmetric\u001b[0m\u001b[0;34m,\u001b[0m\u001b[0;34m\u001b[0m\u001b[0;34m\u001b[0m\u001b[0m\n\u001b[1;32m    588\u001b[0m             \u001b[0mmetric_kwds\u001b[0m\u001b[0;34m=\u001b[0m\u001b[0mself\u001b[0m\u001b[0;34m.\u001b[0m\u001b[0mmetric_kwds\u001b[0m\u001b[0;34m,\u001b[0m\u001b[0;34m\u001b[0m\u001b[0;34m\u001b[0m\u001b[0m\n\u001b[0;32m--> 589\u001b[0;31m             \u001b[0mtest_df_info\u001b[0m\u001b[0;34m=\u001b[0m\u001b[0mself\u001b[0m\u001b[0;34m.\u001b[0m\u001b[0m_test_umap_data\u001b[0m\u001b[0;34m,\u001b[0m\u001b[0;34m\u001b[0m\u001b[0;34m\u001b[0m\u001b[0m\n\u001b[0m\u001b[1;32m    590\u001b[0m         )\n\u001b[1;32m    591\u001b[0m         \u001b[0;32mreturn\u001b[0m \u001b[0mself\u001b[0m\u001b[0;34m.\u001b[0m\u001b[0membedding\u001b[0m\u001b[0;34m,\u001b[0m \u001b[0mself\u001b[0m\u001b[0;34m.\u001b[0m\u001b[0mtest_embedding\u001b[0m\u001b[0;34m\u001b[0m\u001b[0;34m\u001b[0m\u001b[0m\n",
      "\u001b[0;32m~/WorkspaceHK3Lab/umapviz/src/umapviz/umap_functions.py\u001b[0m in \u001b[0;36mget_umap_embeddings\u001b[0;34m(train_df_info, n_neighbors, min_dist, n_components, metric, metric_kwds, random_state, test_df_info)\u001b[0m\n\u001b[1;32m    158\u001b[0m         \u001b[0mmetric_kwds\u001b[0m\u001b[0;34m=\u001b[0m\u001b[0mmetric_kwds\u001b[0m\u001b[0;34m,\u001b[0m\u001b[0;34m\u001b[0m\u001b[0;34m\u001b[0m\u001b[0m\n\u001b[1;32m    159\u001b[0m     )\n\u001b[0;32m--> 160\u001b[0;31m     \u001b[0mreducer\u001b[0m\u001b[0;34m.\u001b[0m\u001b[0mfit\u001b[0m\u001b[0;34m(\u001b[0m\u001b[0mtrain_df_info\u001b[0m\u001b[0;34m.\u001b[0m\u001b[0mdf\u001b[0m\u001b[0;34m)\u001b[0m\u001b[0;34m\u001b[0m\u001b[0;34m\u001b[0m\u001b[0m\n\u001b[0m\u001b[1;32m    161\u001b[0m \u001b[0;34m\u001b[0m\u001b[0m\n\u001b[1;32m    162\u001b[0m     \u001b[0;31m# Transform using UMAP transformation\u001b[0m\u001b[0;34m\u001b[0m\u001b[0;34m\u001b[0m\u001b[0;34m\u001b[0m\u001b[0m\n",
      "\u001b[0;32m~/anaconda3/envs/umapviz/lib/python3.6/site-packages/umap/umap_.py\u001b[0m in \u001b[0;36mfit\u001b[0;34m(self, X, y)\u001b[0m\n\u001b[1;32m   1628\u001b[0m         \u001b[0mself\u001b[0m\u001b[0;34m.\u001b[0m\u001b[0m_initial_alpha\u001b[0m \u001b[0;34m=\u001b[0m \u001b[0mself\u001b[0m\u001b[0;34m.\u001b[0m\u001b[0mlearning_rate\u001b[0m\u001b[0;34m\u001b[0m\u001b[0;34m\u001b[0m\u001b[0m\n\u001b[1;32m   1629\u001b[0m \u001b[0;34m\u001b[0m\u001b[0m\n\u001b[0;32m-> 1630\u001b[0;31m         \u001b[0mself\u001b[0m\u001b[0;34m.\u001b[0m\u001b[0m_validate_parameters\u001b[0m\u001b[0;34m(\u001b[0m\u001b[0;34m)\u001b[0m\u001b[0;34m\u001b[0m\u001b[0;34m\u001b[0m\u001b[0m\n\u001b[0m\u001b[1;32m   1631\u001b[0m \u001b[0;34m\u001b[0m\u001b[0m\n\u001b[1;32m   1632\u001b[0m         \u001b[0;32mif\u001b[0m \u001b[0mself\u001b[0m\u001b[0;34m.\u001b[0m\u001b[0mverbose\u001b[0m\u001b[0;34m:\u001b[0m\u001b[0;34m\u001b[0m\u001b[0;34m\u001b[0m\u001b[0m\n",
      "\u001b[0;32m~/anaconda3/envs/umapviz/lib/python3.6/site-packages/umap/umap_.py\u001b[0m in \u001b[0;36m_validate_parameters\u001b[0;34m(self)\u001b[0m\n\u001b[1;32m   1479\u001b[0m         \u001b[0;32mif\u001b[0m \u001b[0mcallable\u001b[0m\u001b[0;34m(\u001b[0m\u001b[0mself\u001b[0m\u001b[0;34m.\u001b[0m\u001b[0mmetric\u001b[0m\u001b[0;34m)\u001b[0m\u001b[0;34m:\u001b[0m\u001b[0;34m\u001b[0m\u001b[0;34m\u001b[0m\u001b[0m\n\u001b[1;32m   1480\u001b[0m             in_returns_grad = self._check_custom_metric(\n\u001b[0;32m-> 1481\u001b[0;31m                 \u001b[0mself\u001b[0m\u001b[0;34m.\u001b[0m\u001b[0mmetric\u001b[0m\u001b[0;34m,\u001b[0m \u001b[0mself\u001b[0m\u001b[0;34m.\u001b[0m\u001b[0m_metric_kwds\u001b[0m\u001b[0;34m,\u001b[0m \u001b[0mself\u001b[0m\u001b[0;34m.\u001b[0m\u001b[0m_raw_data\u001b[0m\u001b[0;34m\u001b[0m\u001b[0;34m\u001b[0m\u001b[0m\n\u001b[0m\u001b[1;32m   1482\u001b[0m             )\n\u001b[1;32m   1483\u001b[0m             \u001b[0;32mif\u001b[0m \u001b[0min_returns_grad\u001b[0m\u001b[0;34m:\u001b[0m\u001b[0;34m\u001b[0m\u001b[0;34m\u001b[0m\u001b[0m\n",
      "\u001b[0;32m~/anaconda3/envs/umapviz/lib/python3.6/site-packages/umap/umap_.py\u001b[0m in \u001b[0;36m_check_custom_metric\u001b[0;34m(self, metric, kwds, data)\u001b[0m\n\u001b[1;32m   1587\u001b[0m             \u001b[0mmetric_out\u001b[0m \u001b[0;34m=\u001b[0m \u001b[0mmetric\u001b[0m\u001b[0;34m(\u001b[0m\u001b[0mx\u001b[0m\u001b[0;34m.\u001b[0m\u001b[0mindices\u001b[0m\u001b[0;34m,\u001b[0m \u001b[0mx\u001b[0m\u001b[0;34m.\u001b[0m\u001b[0mdata\u001b[0m\u001b[0;34m,\u001b[0m \u001b[0my\u001b[0m\u001b[0;34m.\u001b[0m\u001b[0mindices\u001b[0m\u001b[0;34m,\u001b[0m \u001b[0my\u001b[0m\u001b[0;34m.\u001b[0m\u001b[0mdata\u001b[0m\u001b[0;34m,\u001b[0m \u001b[0;34m**\u001b[0m\u001b[0mkwds\u001b[0m\u001b[0;34m)\u001b[0m\u001b[0;34m\u001b[0m\u001b[0;34m\u001b[0m\u001b[0m\n\u001b[1;32m   1588\u001b[0m         \u001b[0;32melse\u001b[0m\u001b[0;34m:\u001b[0m\u001b[0;34m\u001b[0m\u001b[0;34m\u001b[0m\u001b[0m\n\u001b[0;32m-> 1589\u001b[0;31m             \u001b[0mmetric_out\u001b[0m \u001b[0;34m=\u001b[0m \u001b[0mmetric\u001b[0m\u001b[0;34m(\u001b[0m\u001b[0mx\u001b[0m\u001b[0;34m,\u001b[0m \u001b[0my\u001b[0m\u001b[0;34m,\u001b[0m \u001b[0;34m**\u001b[0m\u001b[0mkwds\u001b[0m\u001b[0;34m)\u001b[0m\u001b[0;34m\u001b[0m\u001b[0;34m\u001b[0m\u001b[0m\n\u001b[0m\u001b[1;32m   1590\u001b[0m         \u001b[0;31m# True if metric returns iterable of length 2, False otherwise\u001b[0m\u001b[0;34m\u001b[0m\u001b[0;34m\u001b[0m\u001b[0;34m\u001b[0m\u001b[0m\n\u001b[1;32m   1591\u001b[0m         \u001b[0;32mreturn\u001b[0m \u001b[0mhasattr\u001b[0m\u001b[0;34m(\u001b[0m\u001b[0mmetric_out\u001b[0m\u001b[0;34m,\u001b[0m \u001b[0;34m\"__iter__\"\u001b[0m\u001b[0;34m)\u001b[0m \u001b[0;32mand\u001b[0m \u001b[0mlen\u001b[0m\u001b[0;34m(\u001b[0m\u001b[0mmetric_out\u001b[0m\u001b[0;34m)\u001b[0m \u001b[0;34m==\u001b[0m \u001b[0;36m2\u001b[0m\u001b[0;34m\u001b[0m\u001b[0;34m\u001b[0m\u001b[0m\n",
      "\u001b[0;31mValueError\u001b[0m: unable to broadcast argument 1 to output array\nFile \"../src/umapviz/umap_metrics.py\", line 203, "
     ]
    }
   ],
   "source": [
    "# -----------------------\n",
    "# UMAP (DEFAULT) SETTINGS\n",
    "# -----------------------\n",
    "NEIGHBOURHOOD = 10\n",
    "N_COMPONENTS = 2\n",
    "RANDOM_STATE = 23\n",
    "PLOT_HEIGHT = 600\n",
    "PLOT_WIDTH = 900\n",
    "\n",
    "\n",
    "# --------------\n",
    "# Bokeh Settings\n",
    "# --------------\n",
    "TOOLS = (\n",
    "    \"hover,crosshair,pan,wheel_zoom,zoom_in,zoom_out,box_zoom,\"\n",
    "    \"undo,redo,reset,tap,save,box_select,poly_select,lasso_select,\"\n",
    ")\n",
    "TOOLTIPS = [\n",
    "    (\"index\", \"$index\"),\n",
    "    (\"(x,y)\", \"($x, $y)\"),\n",
    "    (\"study_UID\", \"@study_uid\"),\n",
    "]\n",
    "\n",
    "df_info.metadata_as_features = True\n",
    "cols_by_type = df_info.column_list_by_type\n",
    "\n",
    "exclude_cols = {\n",
    "    \"BODYWEIGHT\",\n",
    "    \"ID_SCHEDA\",\n",
    "    \"TIME OF DEATH\",\n",
    "    \"YEAR\",\n",
    "    \"AGE\",\n",
    "    \"MONTH\",\n",
    "    \"AGE_bin_id\",\n",
    "    \"SEX_enc\",\n",
    "    \"SEXUAL STATUS_enc\"\n",
    "    # FIXED COLS\n",
    "    # 'Osmolal Gap', 'TLI', 'pH (quantitative)', 'Serum Total Bilirubin', 'Lipase/Crea', 'D Dimer',\n",
    "    # 'RETICULOCYTE COUNT'\n",
    "}\n",
    "\n",
    "CAT_FEATURES = {\n",
    "    \"FILARIOSI_enc\",\n",
    "    \"ANAMNESI_AMBIENTALE_enc\",\n",
    "    \"VACCINAZIONI_enc\",\n",
    "    \"ANAMNESI_ALIMENTARE_enc\",\n",
    "    \"PROFILO_PAZIENTE_enc\",\n",
    "}\n",
    "\n",
    "BOOL_FEATURES = {\n",
    "    \"SEX_enc\",\n",
    "    \"SEXUAL STATUS_enc\",\n",
    "}\n",
    "# cat_features_list = set()\n",
    "# bool_features_list = set()\n",
    "# num_features_list = df_info.med_exam_col_list - df_info.metadata_cols - exclude_cols -\n",
    "#       CAT_FEATURES - BOOL_FEATURES\n",
    "# cols_by_type.numerical_cols - exclude_cols - CAT_FEATURES - BOOL_FEATURES\n",
    "\n",
    "color_list = (\n",
    "    \"#34c616\",  # Verde\n",
    "    \"#735911\",  # Marrone\n",
    "    \"#12b6c4\",  # Azzurro\n",
    ")\n",
    "test_color_list = (\"#da2e1a\", \"#da971a\", \"#1a43da\")  # Rosso  # Arancione  # Blu\n",
    "\n",
    "group_values_to_be_shown = (\n",
    "    \"BREED\",\n",
    "    (tuple([\"MONGREL\"]), tuple([\"LABRADOR RETRIEVER\"])),\n",
    ")\n",
    "# ['GERMAN SHEPHERD'], ['GOLDEN RETRIEVER']],\n",
    "random_state = 42\n",
    "num_cols = cols_by_type.numerical_cols.union(\n",
    "    cols_by_type.num_categorical_cols\n",
    ").union(cols_by_type.bool_cols)\n",
    "\n",
    "umap_exp = UmapExperiment(\n",
    "    df_info=df_info,\n",
    "    n_neighbors=5,\n",
    "    min_distance=0.01,\n",
    "    not_nan_percentage_threshold=0.88,\n",
    "    train_test_split_ratio=0.2,\n",
    "    feature_to_color=\"AGE_bin_id\",\n",
    "    multi_marker_feats=(\"SEX_enc\", \"SEXUAL STATUS_enc\"),\n",
    "    enc_value_to_str_map={\n",
    "        \"SEX_enc\": {0: \"F\", 1: \"M\"},\n",
    "        \"SEXUAL STATUS_enc\": {0: \"I\", 1: \"NI\"},\n",
    "    },\n",
    "    file_title_prefix=\"AGE\",\n",
    "    exclude_feat_list=exclude_cols,\n",
    "    numer_feat_list=num_cols,\n",
    "    # TODO: We have a problem to understand which columns are numerical and categorical based on the\n",
    "    #   count of unique values. At the moment even Serum Albumin is there.\n",
    "    #   Moreover:\n",
    "    #   1. Numer / categ /bool feat_list cannot share some columns names!\n",
    "    categ_feat_list=(),  # cols_by_type.num_categorical_cols,\n",
    "    bool_feat_list=(),  # BOOL_FEATURES,  # cols_by_type.bool_cols,\n",
    "    random_seed=42,\n",
    "    metric=tanimoto_gower,\n",
    "    numer_feat_weight=1.0,\n",
    "    categ_feat_weight=0,\n",
    "    bool_feat_weight=0.0,\n",
    "    group_values_to_be_shown=(\"BREED\", ((\"LABRADOR RETRIEVER\",), (\"MONGREL\",))),\n",
    "    color_tuple=color_list,\n",
    "    test_color_tuple=test_color_list,\n",
    "    tooltip_feats=(\n",
    "        \"SEX\",\n",
    "        \"SEXUAL STATUS\",\n",
    "        \"AGE\",\n",
    "        \"BODYWEIGHT\",\n",
    "    ),\n",
    "    marker_size=8,\n",
    "    marker_fill_alpha=0.0,\n",
    "    tools=TOOLS,\n",
    ")\n",
    "# TODO:\n",
    "#   2. Check the clustering labels and how they are split between train and test set\n",
    "#    3. Check how the colors are passed and managed\n",
    "# hdbscan_labels = umap_exp.clustering(min_cluster_size=10, umap_components=40,\n",
    "#                                      min_samples=2, use_umap_preprocessing=True,)\n",
    "# umap_exp.plot_cluster_labels(multi_marker_feats=('SEX_enc', 'SEXUAL STATUS_enc'))\n",
    "\n",
    "umap_exp.fit_transform()\n",
    "umap_exp.plot(return_plot=False)"
   ]
  },
  {
   "cell_type": "markdown",
   "metadata": {},
   "source": [
    "# Using functions from umap_functions"
   ]
  },
  {
   "cell_type": "code",
   "execution_count": 13,
   "metadata": {},
   "outputs": [],
   "source": [
    "sys.path.append('..')"
   ]
  },
  {
   "cell_type": "code",
   "execution_count": 14,
   "metadata": {},
   "outputs": [
    {
     "name": "stderr",
     "output_type": "stream",
     "text": [
      "02-Sep-20 12:34:20 \t INFO \t Module: umap_functions \t The features that have too high number of Nan (and will not be considered in UMAP) are: ['Serum Bile Acid', 'ANAMNESI_AMBIENTALE_enc', 'TIME OF DEATH', 'FT4', 'BODY CONDITION SCORE_enc', 'Serum IgA', 'EF Posphate', 'Aldosteron', 'Serum Haptoglobin', 'TTKG', 'TSH', 'Serum PON-1', 'BLOOD PRESS MIN', 'Serum Ca x Pi', 'Osmolal Gap', 'TT4', 'Serum IgM', 'Lipase/Crea', 'AMMONIUM', 'TLI', 'FILARIOSI_enc', 'Potassium/Crea', 'HPT', 'RESPIRATORY RATE', 'Calcium/Crea', 'CORTISOLO_LC_MS_MS', 'VACCINAZIONI_enc', 'GGT/Crea', 'Serum IgG', 'EF Urea', 'EF Calcium', 'AMMONIACA_NORM_CREA', 'LIPASI_DGGR', 'Chloride/Crea', 'ANAMNESI_ALIMENTARE_enc', 'Bile Acids/Crea', 'VolLTTHY', 'BLOOD PRESS MEAN', 'Amylase/Crea', 'Glucose/Crea', 'Quantitative FDP', 'Bilirubin/Crea', 'TEMP', 'VolRTTHY', 'PROFILO_PAZIENTE_enc', 'Sodium/Crea', 'BROMURO_enc', 'P/Crea', 'FT4 LC-MS-MS', 'CREATINURIA', 'Cortisol/Crea', 'PULSE RATE', 'VolLiver_enc', 'BLOOD PRESS MAX'] \n",
      "02-Sep-20 12:34:20 \t WARNING \t Module: dataframe_with_info \t Some columns of the previous DataFrameWithInfo instance are being lost, but information about operation on them is still present \n",
      "02-Sep-20 12:34:20 \t WARNING \t Module: dataframe_with_info \t Some columns of the previous DataFrameWithInfo instance are being lost, but information about operation on them is still present \n"
     ]
    }
   ],
   "source": [
    "from src.umapviz import umap_plot, umap_functions\n",
    "\n",
    "\n",
    "train_umap_data, train_notna_full_features_df, \\\n",
    "    test_umap_data, test_notna_full_features_df = \\\n",
    "        umap_functions.prepare_umap_data(df_correct, \n",
    "                                    not_nan_percentage_threshold=0.88, \n",
    "                                    test_over_set_ratio=0.25)"
   ]
  },
  {
   "cell_type": "code",
   "execution_count": 16,
   "metadata": {},
   "outputs": [
    {
     "ename": "NameError",
     "evalue": "name 'logging' is not defined",
     "output_type": "error",
     "traceback": [
      "\u001b[0;31m---------------------------------------------------------------------------\u001b[0m",
      "\u001b[0;31mNameError\u001b[0m                                 Traceback (most recent call last)",
      "\u001b[0;32m<ipython-input-16-c134c9b3e331>\u001b[0m in \u001b[0;36m<module>\u001b[0;34m\u001b[0m\n\u001b[1;32m     23\u001b[0m     \u001b[0mtest_df_full_feat\u001b[0m\u001b[0;34m=\u001b[0m\u001b[0mtest_notna_full_features_df\u001b[0m\u001b[0;34m,\u001b[0m\u001b[0;34m\u001b[0m\u001b[0;34m\u001b[0m\u001b[0m\n\u001b[1;32m     24\u001b[0m     \u001b[0mtest_color_tuple\u001b[0m\u001b[0;34m=\u001b[0m\u001b[0mtest_color_list\u001b[0m\u001b[0;34m,\u001b[0m\u001b[0;34m\u001b[0m\u001b[0;34m\u001b[0m\u001b[0m\n\u001b[0;32m---> 25\u001b[0;31m     \u001b[0mfilename_prefix\u001b[0m\u001b[0;34m=\u001b[0m\u001b[0;34m'AGE_50_0.3_with_test'\u001b[0m\u001b[0;34m,\u001b[0m\u001b[0;34m\u001b[0m\u001b[0;34m\u001b[0m\u001b[0m\n\u001b[0m\u001b[1;32m     26\u001b[0m \u001b[0;31m#     show_plot=True\u001b[0m\u001b[0;34m\u001b[0m\u001b[0;34m\u001b[0m\u001b[0;34m\u001b[0m\u001b[0m\n\u001b[1;32m     27\u001b[0m )\n",
      "\u001b[0;32m~/WorkspaceHK3Lab/umapviz/src/umapviz/umap_functions.py\u001b[0m in \u001b[0;36mcalculate_plot_umap\u001b[0;34m(df_exams_only_umap, df_full_feat, n_neighbors, min_dist, group_values_to_be_shown, color_tuple, test_df_exams_only_umap, random_state, metric, feature_to_color, multi_feat_to_combine_partit_list, test_df_full_feat, test_color_tuple, return_plot, filename_prefix)\u001b[0m\n\u001b[1;32m    399\u001b[0m         \u001b[0mtest_df_full_feat\u001b[0m\u001b[0;34m=\u001b[0m\u001b[0mtest_df_full_feat\u001b[0m\u001b[0;34m,\u001b[0m\u001b[0;34m\u001b[0m\u001b[0;34m\u001b[0m\u001b[0m\n\u001b[1;32m    400\u001b[0m         \u001b[0mtest_color_tuple\u001b[0m\u001b[0;34m=\u001b[0m\u001b[0mtest_color_tuple\u001b[0m\u001b[0;34m,\u001b[0m\u001b[0;34m\u001b[0m\u001b[0;34m\u001b[0m\u001b[0m\n\u001b[0;32m--> 401\u001b[0;31m         \u001b[0mreturn_plot\u001b[0m\u001b[0;34m=\u001b[0m\u001b[0mreturn_plot\u001b[0m\u001b[0;34m,\u001b[0m\u001b[0;34m\u001b[0m\u001b[0;34m\u001b[0m\u001b[0m\n\u001b[0m\u001b[1;32m    402\u001b[0m     )\n\u001b[1;32m    403\u001b[0m     \u001b[0;32mreturn\u001b[0m \u001b[0mreducer\u001b[0m\u001b[0;34m,\u001b[0m \u001b[0membedding\u001b[0m\u001b[0;34m,\u001b[0m \u001b[0mumap_plot_per_breed\u001b[0m\u001b[0;34m\u001b[0m\u001b[0;34m\u001b[0m\u001b[0m\n",
      "\u001b[0;32m~/WorkspaceHK3Lab/umapviz/src/umapviz/umap_functions.py\u001b[0m in \u001b[0;36mplot_umap\u001b[0;34m(embedding, df_full_feat, umap_params_str, group_values_to_be_shown, color_tuple, test_embedding, feature_to_color, multi_marker_feats, enc_value_to_str_map, legend_location, test_df_full_feat, test_color_tuple, tools, tooltip_feats, tooltips, plot_height, plot_width, marker_size, marker_fill_alpha, return_plot, filename_title_prefix)\u001b[0m\n\u001b[1;32m    298\u001b[0m                     \u001b[0mmarker_fill_alpha\u001b[0m\u001b[0;34m=\u001b[0m\u001b[0mmarker_fill_alpha\u001b[0m\u001b[0;34m,\u001b[0m\u001b[0;34m\u001b[0m\u001b[0;34m\u001b[0m\u001b[0m\n\u001b[1;32m    299\u001b[0m                     \u001b[0mtooltip_feats\u001b[0m\u001b[0;34m=\u001b[0m\u001b[0mtooltip_feats\u001b[0m\u001b[0;34m,\u001b[0m\u001b[0;34m\u001b[0m\u001b[0;34m\u001b[0m\u001b[0m\n\u001b[0;32m--> 300\u001b[0;31m                     \u001b[0mtooltips\u001b[0m\u001b[0;34m=\u001b[0m\u001b[0mtooltips\u001b[0m\u001b[0;34m,\u001b[0m\u001b[0;34m\u001b[0m\u001b[0;34m\u001b[0m\u001b[0m\n\u001b[0m\u001b[1;32m    301\u001b[0m                 )\n\u001b[1;32m    302\u001b[0m \u001b[0;34m\u001b[0m\u001b[0m\n",
      "\u001b[0;32m~/WorkspaceHK3Lab/umapviz/src/umapviz/umap_plot.py\u001b[0m in \u001b[0;36madd_series_combine_multi_feat\u001b[0;34m(self, df_info, embedding, feature_to_color, multi_marker_feats, enc_value_to_str_map_multi_feat, legend_location, group_values_to_be_shown, tooltip_feats, tooltips, marker_fill_alpha, marker_size, title, color_list, legend_label_prefix)\u001b[0m\n\u001b[1;32m    616\u001b[0m         \u001b[0mcol_type\u001b[0m \u001b[0;34m=\u001b[0m \u001b[0mcol_types\u001b[0m\u001b[0;34m[\u001b[0m\u001b[0;36m0\u001b[0m\u001b[0;34m]\u001b[0m\u001b[0;34m\u001b[0m\u001b[0;34m\u001b[0m\u001b[0m\n\u001b[1;32m    617\u001b[0m         \u001b[0;32mif\u001b[0m \u001b[0;32mnot\u001b[0m \u001b[0mhas_same_values\u001b[0m \u001b[0;32mor\u001b[0m \u001b[0;32mnot\u001b[0m \u001b[0;34m(\u001b[0m\u001b[0;34m\"float\"\u001b[0m \u001b[0;32min\u001b[0m \u001b[0mcol_type\u001b[0m \u001b[0;32mor\u001b[0m \u001b[0;34m\"int\"\u001b[0m \u001b[0;32min\u001b[0m \u001b[0mcol_type\u001b[0m\u001b[0;34m)\u001b[0m\u001b[0;34m:\u001b[0m\u001b[0;34m\u001b[0m\u001b[0;34m\u001b[0m\u001b[0m\n\u001b[0;32m--> 618\u001b[0;31m             logging.error(\n\u001b[0m\u001b[1;32m    619\u001b[0m                 \u001b[0;34m\"The feature is not Numerical, so the UMAP algorithm cannot proceed\"\u001b[0m\u001b[0;34m\u001b[0m\u001b[0;34m\u001b[0m\u001b[0m\n\u001b[1;32m    620\u001b[0m             )\n",
      "\u001b[0;31mNameError\u001b[0m: name 'logging' is not defined"
     ]
    }
   ],
   "source": [
    "color_list = (\n",
    "    '#34c616',  # Verde\n",
    "    '#735911',  # Marrone\n",
    "    '#12b6c4',  # Azzurro\n",
    ")\n",
    "test_color_list = (\n",
    "    '#da2e1a',  # Rosso\n",
    "    '#da971a',  # Arancione\n",
    "    '#1a43da'  # Blu\n",
    ")\n",
    "\n",
    "reducer, embedding = umap_functions.calculate_plot_umap(\n",
    "    df_exams_only_umap=train_umap_data,\n",
    "    df_full_feat=train_notna_full_features_df,\n",
    "    n_neighbors=50,  # [5, 15, 50, 100],\n",
    "    min_dist=0.03,  # [0.01, 0.1, 1],\n",
    "    group_values_to_be_shown=('BREED', (tuple(['MONGREL']), tuple(['LABRADOR RETRIEVER']))),\n",
    "    # ['GERMAN SHEPHERD'], ['GOLDEN RETRIEVER']],\n",
    "    feature_to_color='AGE_bin_id',\n",
    "    multi_feat_to_combine_partit_list=('SEX', 'SEXUAL STATUS'),\n",
    "    color_tuple=color_list,\n",
    "    test_df_exams_only_umap=test_umap_data,\n",
    "    test_df_full_feat=test_notna_full_features_df,\n",
    "    test_color_tuple=test_color_list,\n",
    "    filename_prefix='AGE_50_0.3_with_test',\n",
    "#     show_plot=True\n",
    ")\n",
    "\n",
    "\n",
    "# calculate_plot_umap_multi_breed_multi_params(\n",
    "#                                                 df_exams_only_umap=train_umap_data, \n",
    "#                                                 df_full_feat=train_notna_full_features_df, \n",
    "#                                                 n_neighbors_list=[50],  #[5, 15, 50, 100],\n",
    "#                                                 min_dist_list=[0.03],  # [0.01, 0.1, 1],\n",
    "#                                                 multiple_breed_list=[['MONGREL'], ['LABRADOR RETRIEVER'], ['GERMAN SHEPHERD'], ['GOLDEN RETRIEVER']],\n",
    "# #                                                 feature_to_color='SEX-SEXUAL STATUS-AGE_bin_id_group_ID',\n",
    "#                                                 three_feat_color_list=['SEX', 'SEXUAL STATUS', 'AGE_bin_id'],\n",
    "#                                                 color_list=color_list, \n",
    "#                                                 ncols=3,\n",
    "#                                                 test_df_exams_only_umap=test_umap_data,\n",
    "#                                                 test_df_full_feat=test_notna_full_features_df,\n",
    "#                                                 filename='Multibreed_TEST_UMAP_50_0.3.html'\n",
    "# )\n",
    "\n",
    "['#1dda1a', # Verde\n",
    " '#1adaae', # Azzurro\n",
    " '#1a71da'] # Blu\n",
    "    #'#da2f1a']"
   ]
  },
  {
   "cell_type": "code",
   "execution_count": null,
   "metadata": {},
   "outputs": [],
   "source": []
  }
 ],
 "metadata": {
  "kernelspec": {
   "display_name": "UMAPviz_env",
   "language": "python",
   "name": "umapviz"
  },
  "language_info": {
   "codemirror_mode": {
    "name": "ipython",
    "version": 3
   },
   "file_extension": ".py",
   "mimetype": "text/x-python",
   "name": "python",
   "nbconvert_exporter": "python",
   "pygments_lexer": "ipython3",
   "version": "3.6.10"
  }
 },
 "nbformat": 4,
 "nbformat_minor": 4
}
