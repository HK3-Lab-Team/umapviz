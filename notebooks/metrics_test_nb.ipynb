{
 "metadata": {
  "language_info": {
   "codemirror_mode": {
    "name": "ipython",
    "version": 3
   },
   "file_extension": ".py",
   "mimetype": "text/x-python",
   "name": "python",
   "nbconvert_exporter": "python",
   "pygments_lexer": "ipython3",
   "version": "3.6.10-final"
  },
  "orig_nbformat": 2,
  "kernelspec": {
   "name": "umapviz",
   "display_name": "UMAPviz_env"
  }
 },
 "nbformat": 4,
 "nbformat_minor": 2,
 "cells": [
  {
   "cell_type": "code",
   "execution_count": 3,
   "metadata": {},
   "outputs": [],
   "source": [
    "from umapviz import umap_metrics as um\n",
    "import numpy as np"
   ]
  },
  {
   "cell_type": "code",
   "execution_count": 4,
   "metadata": {},
   "outputs": [],
   "source": [
    "a_num = np.array([1, 2, 3, 4])\n",
    "b_num = np.array([3, 2, 3, 4])\n",
    "weights = np.array([2, 1, 1, 1])\n",
    "min_vals = np.array([1, 2, 3, 4])\n",
    "max_vals = np.array([3, 2, 3, 4])"
   ]
  },
  {
   "cell_type": "code",
   "execution_count": 6,
   "metadata": {
    "tags": []
   },
   "outputs": [
    {
     "output_type": "stream",
     "name": "stdout",
     "text": "5.0\n"
    }
   ],
   "source": [
    "metric = um.gower_dist_numerical(a_num, b_num, weights, min_vals, max_vals)\n",
    "print(metric)"
   ]
  },
  {
   "cell_type": "code",
   "execution_count": 12,
   "metadata": {},
   "outputs": [
    {
     "output_type": "execute_result",
     "data": {
      "text/plain": "5.0"
     },
     "metadata": {},
     "execution_count": 12
    }
   ],
   "source": [
    "um.gower_dist_numerical(\n",
    "    np.array([1, 2, 3, 4]),\n",
    "    np.array([5, 2, 3, 4]),\n",
    "    np.array([2, 1, 1, 1]),\n",
    "    np.array([1, 2, 3, 4]),\n",
    "    np.array([5, 2, 3, 4])\n",
    ")"
   ]
  },
  {
   "cell_type": "code",
   "execution_count": 22,
   "metadata": {},
   "outputs": [
    {
     "output_type": "execute_result",
     "data": {
      "text/plain": "495.0"
     },
     "metadata": {},
     "execution_count": 22
    }
   ],
   "source": [
    "um.gower_dist_numerical(\n",
    "    np.array([1, 2, 3, 4]),\n",
    "    np.array([100, 2, 3, 4]),\n",
    "    np.array([2, 1, 1, 1]),\n",
    "    np.array([2, 2, 3, 4]),\n",
    "    np.array([1, 2, 3, 4])\n",
    ")"
   ]
  },
  {
   "cell_type": "code",
   "execution_count": 26,
   "metadata": {},
   "outputs": [
    {
     "output_type": "execute_result",
     "data": {
      "text/plain": "0.050505050505050275"
     },
     "metadata": {},
     "execution_count": 26
    }
   ],
   "source": [
    "um.gower_dist_numerical(\n",
    "    np.array([1, 2, 3, 4]),\n",
    "    np.array([2, 2, 3, 4]),\n",
    "    np.array([2, 1, 1, 1]),\n",
    "    np.array([100, 2, 3, 4]),\n",
    "    np.array([1, 2, 3, 4])\n",
    ")"
   ]
  },
  {
   "cell_type": "code",
   "execution_count": 15,
   "metadata": {},
   "outputs": [
    {
     "output_type": "execute_result",
     "data": {
      "text/plain": "1.0"
     },
     "metadata": {},
     "execution_count": 15
    }
   ],
   "source": [
    "um.gower_dist_numerical_old(\n",
    "    np.array([100, 2, 3, 4]),\n",
    "    np.array([2, 2, 3, 4]),\n",
    "    np.array([1, 1, 1, 1]),\n",
    ")"
   ]
  },
  {
   "cell_type": "code",
   "execution_count": null,
   "metadata": {},
   "outputs": [],
   "source": []
  }
 ]
}